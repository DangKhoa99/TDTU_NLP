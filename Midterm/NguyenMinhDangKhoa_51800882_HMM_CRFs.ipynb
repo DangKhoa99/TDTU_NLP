{
 "cells": [
  {
   "cell_type": "code",
   "execution_count": 1,
   "metadata": {
    "id": "g00HAJRvLpEx"
   },
   "outputs": [],
   "source": [
    "import nltk\n",
    "from nltk.tag import str2tuple\n",
    "from nltk.tag.hmm import HiddenMarkovModelTrainer, HiddenMarkovModelTagger\n",
    "import numpy as np\n",
    "from pyvi import ViTokenizer\n",
    "from nltk.tag.util import untag"
   ]
  },
  {
   "cell_type": "code",
   "execution_count": 2,
   "metadata": {},
   "outputs": [],
   "source": [
    "file_tranning = 'vi_train.pos'\n",
    "file_testing = 'vi_test.pos'\n",
    "\n",
    "train_set = []\n",
    "\n",
    "with open(file_tranning, encoding='UTF-8') as f:\n",
    "    train_lines = f.readlines()\n",
    "    for line in train_lines:\n",
    "        if(line.strip()): # non-empty line\n",
    "            tmp = []\n",
    "            for word in line.split():\n",
    "                word_tag = nltk.tag.str2tuple(word)\n",
    "                tmp.append(word_tag)\n",
    "            train_set.append(tmp)"
   ]
  },
  {
   "cell_type": "code",
   "execution_count": 3,
   "metadata": {},
   "outputs": [],
   "source": [
    "# print(train_set[0])"
   ]
  },
  {
   "cell_type": "code",
   "execution_count": 4,
   "metadata": {
    "colab": {
     "base_uri": "https://localhost:8080/"
    },
    "id": "UBHe4ZohLpFA",
    "outputId": "5cce0372-c40a-4274-d7a3-082676e45e2e"
   },
   "outputs": [],
   "source": [
    "# trainer = HiddenMarkovModelTrainer()\n",
    "# hmm = trainer.train(train_set)\n",
    "\n",
    "hmm = HiddenMarkovModelTagger.train(train_set)"
   ]
  },
  {
   "cell_type": "code",
   "execution_count": 5,
   "metadata": {},
   "outputs": [],
   "source": [
    "def pos_result(sentences):\n",
    "    str = \"\"\n",
    "    for word, tag in hmm.tag(sentences.split()):\n",
    "#         print(word)\n",
    "#         print(tag)\n",
    "        str += word + \"/\" + tag + \" \"\n",
    "    return str.rstrip() # remove whitespace from the end of string"
   ]
  },
  {
   "cell_type": "markdown",
   "metadata": {},
   "source": [
    "### Input vào một câu tiếng Việt, cho ra nhãn của từng từ trong câu"
   ]
  },
  {
   "cell_type": "code",
   "execution_count": 6,
   "metadata": {},
   "outputs": [
    {
     "name": "stdout",
     "output_type": "stream",
     "text": [
      "Dù/C khá/R đắt/A nhưng/C tôi/P vẫn/R đồng_ý/V ./.\n"
     ]
    }
   ],
   "source": [
    "input_sentences = \"Dù khá đắt nhưng tôi vẫn đồng ý.\"\n",
    "print(pos_result(ViTokenizer.tokenize(input_sentences))) # Word Segmentation "
   ]
  },
  {
   "cell_type": "code",
   "execution_count": 7,
   "metadata": {},
   "outputs": [],
   "source": [
    "# test_text = \"Anh Anh bảo : “ Đồ_đạc ướt thì đem phơi được , chớ bà_con thì làm răng ... ” .\"\n",
    "# print(pos_result(ViTokenizer.tokenize(test_text))) "
   ]
  },
  {
   "cell_type": "code",
   "execution_count": 8,
   "metadata": {},
   "outputs": [
    {
     "name": "stdout",
     "output_type": "stream",
     "text": [
      "1051\n"
     ]
    }
   ],
   "source": [
    "with open(file_testing, encoding=\"UTF-8\") as f:\n",
    "    test_lines = [line for line in f.readlines() if line.strip()] # Remove empty lines\n",
    "print(len(test_lines))"
   ]
  },
  {
   "cell_type": "code",
   "execution_count": 9,
   "metadata": {},
   "outputs": [],
   "source": [
    "# print(test_lines[0])"
   ]
  },
  {
   "cell_type": "code",
   "execution_count": 10,
   "metadata": {},
   "outputs": [
    {
     "name": "stdout",
     "output_type": "stream",
     "text": [
      "['Trên/E', 'đường/N', 'xuất_hiện/V', 'nhiều/A', 'cặp/N', 'cha/N', '-/-', 'con/N', ',/,', 'mẹ/N', '-/-', 'con/N', ',/,', 'hay/C', 'có_khi/X', 'là/C', 'cả/T', 'nhà/N', ',/,', 'tay_xách_nách_mang/X', 'vừa/R', 'đi/V', 'vừa/R', 'dò/V', 'bản_đồ/N', './.']\n"
     ]
    }
   ],
   "source": [
    "test_data = np.array(test_lines)\n",
    "test_sentences = [sent for sent in np.char.split(test_data)]\n",
    "print(test_sentences[0])"
   ]
  },
  {
   "cell_type": "code",
   "execution_count": 11,
   "metadata": {},
   "outputs": [
    {
     "name": "stdout",
     "output_type": "stream",
     "text": [
      "Trên đường xuất_hiện nhiều cặp cha - con , mẹ - con , hay có_khi là cả nhà , tay_xách_nách_mang vừa đi vừa dò bản_đồ .\n"
     ]
    }
   ],
   "source": [
    "# xử lý test bỏ hết tag\n",
    "test_sent = []\n",
    "\n",
    "for sent in test_sentences:\n",
    "    word = []\n",
    "    for word_tag in sent:\n",
    "        tmp = nltk.tag.str2tuple(word_tag)\n",
    "        word.append(tmp[0])\n",
    "    word = \" \".join(word)\n",
    "    test_sent.append(word)\n",
    "print(test_sent[0])"
   ]
  },
  {
   "cell_type": "code",
   "execution_count": 12,
   "metadata": {},
   "outputs": [],
   "source": [
    "pred_lines = []\n",
    "for i in range(len(test_lines)):\n",
    "    pred_lines.append(pos_result(test_sent[i]))"
   ]
  },
  {
   "cell_type": "code",
   "execution_count": 13,
   "metadata": {},
   "outputs": [],
   "source": [
    "# print(pred_lines)"
   ]
  },
  {
   "cell_type": "code",
   "execution_count": 14,
   "metadata": {},
   "outputs": [],
   "source": [
    "total_word_in_test = 0\n",
    "total_word_in_pred = 0\n",
    "\n",
    "test = []\n",
    "for i in range(len(test_lines)):\n",
    "    for j in test_lines[i].split():\n",
    "        test.append(j)\n",
    "        total_word_in_test += 1\n",
    "                \n",
    "pred = []\n",
    "for i in range(len(pred_lines)):\n",
    "    for j in pred_lines[i].split():\n",
    "        pred.append(j)\n",
    "        total_word_in_pred += 1"
   ]
  },
  {
   "cell_type": "code",
   "execution_count": 15,
   "metadata": {},
   "outputs": [
    {
     "name": "stdout",
     "output_type": "stream",
     "text": [
      "23280\n",
      "23280\n"
     ]
    }
   ],
   "source": [
    "print(total_word_in_test)\n",
    "print(total_word_in_pred)"
   ]
  },
  {
   "cell_type": "code",
   "execution_count": 16,
   "metadata": {},
   "outputs": [],
   "source": [
    "# chuyển nhãn viết hoa\n",
    "test1 = []\n",
    "for j in test:\n",
    "    x = nltk.tag.str2tuple(j)\n",
    "    z = nltk.tag.tuple2str(x)\n",
    "    test1.append(z)\n",
    "# print(test1)"
   ]
  },
  {
   "cell_type": "code",
   "execution_count": 17,
   "metadata": {},
   "outputs": [
    {
     "name": "stdout",
     "output_type": "stream",
     "text": [
      "20966\n"
     ]
    }
   ],
   "source": [
    "count_true_pred = 0\n",
    "for i in range(23280):\n",
    "    if(pred[i] == test1[i]):\n",
    "        count_true_pred += 1\n",
    "        \n",
    "print(count_true_pred)"
   ]
  },
  {
   "cell_type": "markdown",
   "metadata": {},
   "source": [
    "### Đánh giá độ chính xác trên tập Test: tỉ lệ số từ gán nhãn đúng trên tổng số từ"
   ]
  },
  {
   "cell_type": "code",
   "execution_count": 18,
   "metadata": {},
   "outputs": [
    {
     "name": "stdout",
     "output_type": "stream",
     "text": [
      "Tỉ lệ số từ gán nhãn đúng: 90.06014%\n"
     ]
    }
   ],
   "source": [
    "print(\"Tỉ lệ số từ gán nhãn đúng: %.5f%%\" % ((count_true_pred / total_word_in_test) * 100))"
   ]
  },
  {
   "cell_type": "markdown",
   "metadata": {},
   "source": [
    "### Sử dụng thêm phương pháp phân loại:\n",
    "Phân loại: sử dụng Maximum Entropy Model (Logistic Regression), SVM."
   ]
  },
  {
   "cell_type": "code",
   "execution_count": 19,
   "metadata": {},
   "outputs": [],
   "source": [
    "# from sklearn.linear_model import LogisticRegression"
   ]
  },
  {
   "cell_type": "code",
   "execution_count": 20,
   "metadata": {},
   "outputs": [],
   "source": [
    "# model_lr = LogisticRegression(random_state=42)\n",
    "# model_lr.fit()"
   ]
  },
  {
   "cell_type": "code",
   "execution_count": 21,
   "metadata": {},
   "outputs": [],
   "source": [
    "# from sklearn import svm"
   ]
  },
  {
   "cell_type": "code",
   "execution_count": 22,
   "metadata": {},
   "outputs": [],
   "source": [
    "# model_svm = svm.SVC(kernel='linear',gamma=0.01,random_state=0, tol=1e-5, C=100.)\n",
    "# # model = svm.LinearSVC(random_state=0, tol=1e-5)\n",
    "# model_svm.fit(X_train, y_train)"
   ]
  },
  {
   "cell_type": "markdown",
   "metadata": {},
   "source": [
    "### Trình bày lý thuyết về Conditional Random Fields và sử dụng thư viện (hoặc open source) để giải quyết bài toán trên. "
   ]
  },
  {
   "cell_type": "code",
   "execution_count": 23,
   "metadata": {},
   "outputs": [],
   "source": [
    "tag_set = {'N', 'NP', 'NC', 'NU', 'V', 'A', 'P', 'L', 'M', 'R', 'E', 'C', 'I', 'T', 'B', 'Y', 'S', 'X', 'NY', 'NB', 'AB', 'VB', 'VY', 'AP'}\n",
    "\n",
    "# Bỏ dấu câu trong tập train\n",
    "train_set_not_punctuation = []\n",
    "\n",
    "for sentences in train_set:\n",
    "    tmp = []\n",
    "    for word_tag in sentences:\n",
    "        if(word_tag[1] in tag_set):\n",
    "            tmp.append(word_tag)\n",
    "    train_set_not_punctuation.append(tmp)\n",
    "# print(train_set_not_punctuation[155])"
   ]
  },
  {
   "cell_type": "code",
   "execution_count": 24,
   "metadata": {},
   "outputs": [],
   "source": [
    "# print(train_set[0])\n",
    "# print(\"Tagged sentences: \", len(train_set))\n",
    "# tagged_words=[tup for sent in train_set for tup in sent]\n",
    "# print(\"Tagged words:\", len(tagged_words))"
   ]
  },
  {
   "cell_type": "code",
   "execution_count": 25,
   "metadata": {},
   "outputs": [
    {
     "name": "stdout",
     "output_type": "stream",
     "text": [
      "[('Trên', 'E'), ('đường', 'N'), ('đi', 'V'), ('có', 'V'), ('một', 'M'), ('lần', 'N'), ('xe', 'N'), ('cô', 'N'), ('suýt', 'R'), ('rơi', 'V'), ('xuống', 'R'), ('vực', 'N'), ('ở', 'E'), ('đèo', 'N'), ('Ngoạn_Mục', 'NP')]\n",
      "Tagged sentences:  8445\n",
      "Tagged words: 165281\n"
     ]
    }
   ],
   "source": [
    "print(train_set_not_punctuation[0])\n",
    "print(\"Tagged sentences: \", len(train_set_not_punctuation))\n",
    "tagged_words = [x for sent in train_set_not_punctuation for x in sent]\n",
    "print(\"Tagged words:\", len(tagged_words))"
   ]
  },
  {
   "cell_type": "code",
   "execution_count": 26,
   "metadata": {},
   "outputs": [],
   "source": [
    "# Bỏ dấu câu trong tập test\n",
    "test_set_not_punctuation = []\n",
    "\n",
    "for sentences in test_sentences:\n",
    "    tmp = []\n",
    "    for word_tag in sentences:\n",
    "        x = nltk.tag.str2tuple(word_tag)\n",
    "        if(x[1] in tag_set):\n",
    "            tmp.append(x)\n",
    "    test_set_not_punctuation.append(tmp)\n",
    "# print(test_set_not_punctuation[0])"
   ]
  },
  {
   "cell_type": "code",
   "execution_count": 27,
   "metadata": {},
   "outputs": [
    {
     "name": "stdout",
     "output_type": "stream",
     "text": [
      "[('Trên', 'E'), ('đường', 'N'), ('xuất_hiện', 'V'), ('nhiều', 'A'), ('cặp', 'N'), ('cha', 'N'), ('con', 'N'), ('mẹ', 'N'), ('con', 'N'), ('hay', 'C'), ('có_khi', 'X'), ('là', 'C'), ('cả', 'T'), ('nhà', 'N'), ('tay_xách_nách_mang', 'X'), ('vừa', 'R'), ('đi', 'V'), ('vừa', 'R'), ('dò', 'V'), ('bản_đồ', 'N')]\n",
      "Tagged sentences:  1051\n",
      "Tagged words: 19822\n"
     ]
    }
   ],
   "source": [
    "print(test_set_not_punctuation[0])\n",
    "print(\"Tagged sentences: \", len(test_set_not_punctuation))\n",
    "test_tagged_words = [x for sent in test_set_not_punctuation for x in sent]\n",
    "print(\"Tagged words:\", len(test_tagged_words))"
   ]
  },
  {
   "cell_type": "code",
   "execution_count": 28,
   "metadata": {},
   "outputs": [
    {
     "name": "stdout",
     "output_type": "stream",
     "text": [
      "8445\n",
      "1051\n"
     ]
    }
   ],
   "source": [
    "def func_features(sentence, index):\n",
    "    \"\"\" sentence: [w1, w2, ...], index: the index of the word \"\"\"\n",
    "    try: features = {\n",
    "        'word': sentence[index],\n",
    "        'is_first': index == 0,\n",
    "        'is_last': index == len(sentence) - 1,\n",
    "        'is_capitalized': sentence[index][0].upper() == sentence[index][0],\n",
    "        'is_all_caps': sentence[index].upper() == sentence[index],\n",
    "        'is_all_lower': sentence[index].lower() == sentence[index],\n",
    "        'prefix-1': sentence[index][0],\n",
    "        'prefix-2': sentence[index][:2],\n",
    "        'prefix-3': sentence[index][:3],\n",
    "        'suffix-1': sentence[index][-1],\n",
    "        'suffix-2': sentence[index][-2:],\n",
    "        'suffix-3': sentence[index][-3:],\n",
    "        'prev_word': '' if index == 0 else sentence[index - 1],\n",
    "        'next_word': '' if index == len(sentence) - 1 else sentence[index + 1],\n",
    "        'has_hyphen': '-' in sentence[index],\n",
    "        'is_numeric': sentence[index].isdigit(),\n",
    "        'capitals_inside': sentence[index][1:].lower() != sentence[index][1:]  \n",
    "         }\n",
    "    except IndexError: features = {\n",
    "        'word': sentence[index],\n",
    "        'is_first': index == 0,\n",
    "        'is_last': index == len(sentence) - 1,\n",
    "        'is_capitalized': False,\n",
    "        'is_all_caps': False,\n",
    "        'is_all_lower': True,\n",
    "        'prefix-1': '',\n",
    "        'prefix-2': '',\n",
    "        'prefix-3': '',\n",
    "        'suffix-1': '',\n",
    "        'suffix-2': '',\n",
    "        'suffix-3': '',\n",
    "        'prev_word': '' if index == 0 else sentence[index - 1],\n",
    "        'next_word': '' if index == len(sentence) - 1 else sentence[index + 1],\n",
    "        'has_hyphen': '-' in sentence[index],\n",
    "        'is_numeric': sentence[index].isdigit(),\n",
    "        'capitals_inside': False  \n",
    "         }\n",
    "    return features\n",
    "\n",
    "def transform_to_dataset(tagged_sentences):\n",
    "    X, y = [], []\n",
    "    for tagged in tagged_sentences:\n",
    "        X.append([func_features(untag(tagged), index) for index in range(len(tagged))])\n",
    "        y.append([tag for _, tag in tagged])\n",
    "    return X, y\n",
    "\n",
    "X_train, y_train = transform_to_dataset(train_set_not_punctuation)\n",
    "X_test, y_test = transform_to_dataset(test_set_not_punctuation)\n",
    "\n",
    "print(len(X_train))\n",
    "print(len(X_test))\n",
    "# print(X_train[155])\n",
    "# print(y_train[0])"
   ]
  },
  {
   "cell_type": "code",
   "execution_count": 29,
   "metadata": {},
   "outputs": [
    {
     "name": "stderr",
     "output_type": "stream",
     "text": [
      "D:\\Program\\anaconda3\\lib\\site-packages\\sklearn\\base.py:209: FutureWarning: From version 0.24, get_params will raise an AttributeError if a parameter cannot be retrieved as an instance attribute. Previously it would return None.\n",
      "  warnings.warn('From version 0.24, get_params will raise an '\n"
     ]
    },
    {
     "data": {
      "text/plain": [
       "CRF(keep_tempfiles=None)"
      ]
     },
     "execution_count": 29,
     "metadata": {},
     "output_type": "execute_result"
    }
   ],
   "source": [
    "from sklearn_crfsuite import CRF\n",
    " \n",
    "model = CRF()\n",
    "model.fit(X_train, y_train)"
   ]
  },
  {
   "cell_type": "code",
   "execution_count": null,
   "metadata": {},
   "outputs": [],
   "source": []
  },
  {
   "cell_type": "code",
   "execution_count": 30,
   "metadata": {},
   "outputs": [
    {
     "name": "stdout",
     "output_type": "stream",
     "text": [
      "Cô/NC Hảo/NP bây_giờ/P sống/V qua_ngày/N trong/E căn/NC nhà/N gỗ/N từ/E đời/N ông/N để/V lại/R ./NY\n"
     ]
    }
   ],
   "source": [
    "sentence = \"Cô Hảo bây giờ sống qua ngày trong căn nhà gỗ từ đời ông để lại.\"\n",
    "\n",
    "def pos_tag(sentence):\n",
    "    word_segment = ViTokenizer.tokenize(sentence)\n",
    "    list_sentence = list(word_segment.split(\" \"))\n",
    "    \n",
    "    sentence_features = [func_features(list_sentence, index) for index in range(len(list_sentence))]\n",
    "    str = \"\"\n",
    "    aaa = model.predict([sentence_features])\n",
    "\n",
    "    for i in range(len(list_sentence)):\n",
    "        str += list_sentence[i] + \"/\" + aaa[0][i] + \" \"\n",
    "        \n",
    "    return str.rstrip()\n",
    "\n",
    "print(pos_tag(sentence))"
   ]
  },
  {
   "cell_type": "code",
   "execution_count": 31,
   "metadata": {},
   "outputs": [
    {
     "name": "stdout",
     "output_type": "stream",
     "text": [
      "Cô/Nc Hảo/Np bây_giờ/P sống/V qua_ngày/X trong/E căn/Nc nhà/N gỗ/N từ/E đời/N ông/N để/V lại/R ./.\n"
     ]
    }
   ],
   "source": [
    "print(\"Cô/Nc Hảo/Np bây_giờ/P sống/V qua_ngày/X trong/E căn/Nc nhà/N gỗ/N từ/E đời/N ông/N để/V lại/R ./.\")"
   ]
  },
  {
   "cell_type": "code",
   "execution_count": 32,
   "metadata": {},
   "outputs": [
    {
     "name": "stdout",
     "output_type": "stream",
     "text": [
      "Accuracy score: 91.31773%\n"
     ]
    }
   ],
   "source": [
    "from sklearn_crfsuite import metrics\n",
    " \n",
    "y_pred = model.predict(X_test)\n",
    "print(\"Accuracy score: %.5f%%\" % (metrics.flat_accuracy_score(y_test, y_pred) * 100))"
   ]
  },
  {
   "cell_type": "code",
   "execution_count": null,
   "metadata": {},
   "outputs": [],
   "source": []
  },
  {
   "cell_type": "code",
   "execution_count": null,
   "metadata": {},
   "outputs": [],
   "source": []
  },
  {
   "cell_type": "code",
   "execution_count": null,
   "metadata": {},
   "outputs": [],
   "source": []
  },
  {
   "cell_type": "code",
   "execution_count": null,
   "metadata": {},
   "outputs": [],
   "source": []
  },
  {
   "cell_type": "code",
   "execution_count": null,
   "metadata": {},
   "outputs": [],
   "source": []
  },
  {
   "cell_type": "code",
   "execution_count": null,
   "metadata": {},
   "outputs": [],
   "source": []
  },
  {
   "cell_type": "code",
   "execution_count": null,
   "metadata": {},
   "outputs": [],
   "source": []
  },
  {
   "cell_type": "code",
   "execution_count": null,
   "metadata": {},
   "outputs": [],
   "source": []
  },
  {
   "cell_type": "code",
   "execution_count": null,
   "metadata": {},
   "outputs": [],
   "source": []
  }
 ],
 "metadata": {
  "colab": {
   "name": "POS-tagging-by-HMM.ipynb",
   "provenance": []
  },
  "kernelspec": {
   "display_name": "Python 3",
   "language": "python",
   "name": "python3"
  },
  "language_info": {
   "codemirror_mode": {
    "name": "ipython",
    "version": 3
   },
   "file_extension": ".py",
   "mimetype": "text/x-python",
   "name": "python",
   "nbconvert_exporter": "python",
   "pygments_lexer": "ipython3",
   "version": "3.8.5"
  }
 },
 "nbformat": 4,
 "nbformat_minor": 1
}
