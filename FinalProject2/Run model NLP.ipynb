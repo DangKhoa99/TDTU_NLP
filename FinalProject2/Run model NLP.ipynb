{
 "cells": [
  {
   "cell_type": "code",
   "execution_count": 15,
   "metadata": {},
   "outputs": [],
   "source": [
    "from keras.models import Model\n",
    "from keras.layers import Input\n",
    "from keras.models import load_model\n",
    "import string\n",
    "from pyvi import ViTokenizer\n",
    "import pickle\n",
    "from tensorflow.keras.preprocessing.sequence import pad_sequences\n",
    "import numpy as np"
   ]
  },
  {
   "cell_type": "code",
   "execution_count": 16,
   "metadata": {},
   "outputs": [],
   "source": [
    "model = load_model('NLP_LSTM_model_Encoder_Decoder.h5')"
   ]
  },
  {
   "cell_type": "code",
   "execution_count": 17,
   "metadata": {},
   "outputs": [
    {
     "name": "stdout",
     "output_type": "stream",
     "text": [
      "Model: \"model\"\n",
      "__________________________________________________________________________________________________\n",
      "Layer (type)                    Output Shape         Param #     Connected to                     \n",
      "==================================================================================================\n",
      "input_2 (InputLayer)            [(None, 20)]         0                                            \n",
      "__________________________________________________________________________________________________\n",
      "input_1 (InputLayer)            [(None, 20)]         0                                            \n",
      "__________________________________________________________________________________________________\n",
      "embedding (Embedding)           (None, 20, 50)       243050      input_1[0][0]                    \n",
      "                                                                 input_2[0][0]                    \n",
      "__________________________________________________________________________________________________\n",
      "lstm (LSTM)                     [(None, 20, 128), (N 91648       embedding[0][0]                  \n",
      "__________________________________________________________________________________________________\n",
      "lstm_1 (LSTM)                   [(None, 20, 128), (N 91648       embedding[1][0]                  \n",
      "                                                                 lstm[0][1]                       \n",
      "                                                                 lstm[0][2]                       \n",
      "__________________________________________________________________________________________________\n",
      "dense (Dense)                   (None, 20, 4860)     626940      lstm_1[0][0]                     \n",
      "==================================================================================================\n",
      "Total params: 1,053,286\n",
      "Trainable params: 1,053,286\n",
      "Non-trainable params: 0\n",
      "__________________________________________________________________________________________________\n"
     ]
    }
   ],
   "source": [
    "model.summary()"
   ]
  },
  {
   "cell_type": "code",
   "execution_count": 18,
   "metadata": {},
   "outputs": [],
   "source": [
    "with open('word2index.pkl', 'rb') as f:\n",
    "    word2index = pickle.load(f)\n",
    "\n",
    "with open('index2word.pkl', 'rb') as f:\n",
    "    index2word = pickle.load(f)"
   ]
  },
  {
   "cell_type": "code",
   "execution_count": 19,
   "metadata": {},
   "outputs": [],
   "source": [
    "def text_process(mess):\n",
    "    # chuyển về chữ thường\n",
    "    mess = mess.lower()\n",
    "    \n",
    "    # xóa dấu câu\n",
    "    mess = [char for char in mess if char not in string.punctuation]\n",
    "    mess = ''.join(mess)\n",
    "    \n",
    "    # replace whitespace\n",
    "    mess = mess.replace(\"   \", \" \")\n",
    "    mess = mess.replace(\"  \", \" \")\n",
    "    \n",
    "    # Word Segmentation\n",
    "    mess = ViTokenizer.tokenize(mess)\n",
    "    \n",
    "    return mess"
   ]
  },
  {
   "cell_type": "code",
   "execution_count": null,
   "metadata": {},
   "outputs": [],
   "source": []
  },
  {
   "cell_type": "code",
   "execution_count": 20,
   "metadata": {},
   "outputs": [],
   "source": [
    "MAX_LEN = 20"
   ]
  },
  {
   "cell_type": "code",
   "execution_count": 21,
   "metadata": {},
   "outputs": [],
   "source": [
    "# Load model\n",
    "\n",
    "latent_dim = 128\n",
    "\n",
    "embed = model.layers[2] # Embedding\n",
    "\n",
    "encoder_inputs = model.input[0]   # input_1\n",
    "decoder_inputs = model.input[1]   # input_2\n",
    "\n",
    "encoder_outputs, state_h, state_c = model.layers[3].output # lstm\n",
    "encoder_states = [state_h, state_c]\n",
    "\n",
    "\n",
    "decoder_lstm = model.layers[4] # lstm\n",
    "\n",
    "\n",
    "dense = model.layers[5] # dense"
   ]
  },
  {
   "cell_type": "code",
   "execution_count": 22,
   "metadata": {},
   "outputs": [],
   "source": [
    "# Để giải mã một câu:\n",
    "# 1/ Encode câu đầu vào và truy xuất trạng thái ban đầu của encoder\n",
    "# 2) Chạy một bước của decoder với trạng thái ban đầu và token \"SOS\" làm target. Ouput sẽ là từ tiếp theo.\n",
    "# 3) Nối từ được dự đoán và lặp lại."
   ]
  },
  {
   "cell_type": "code",
   "execution_count": 23,
   "metadata": {},
   "outputs": [],
   "source": [
    "# Xác định model cho đầu vào - question. Trả về các final state vectơr của encoder LSTM \n",
    "encoder_model = Model([encoder_inputs], encoder_states)\n",
    "\n",
    "# Decoder model for inference\n",
    "decoder_state_input_h = Input(shape=(latent_dim, ))\n",
    "decoder_state_input_c = Input(shape=(latent_dim, ))\n",
    "decoder_states_inputs = [decoder_state_input_h, decoder_state_input_c]\n",
    "decoder_outputs, state_h_dec, state_c_dec = decoder_lstm(embed(decoder_inputs), initial_state=decoder_states_inputs)\n",
    "decoder_states = [state_h_dec, state_c_dec]\n",
    "output = dense(decoder_outputs) \n",
    "decoder_model = Model([decoder_inputs] + decoder_states_inputs, [output] + decoder_states)"
   ]
  },
  {
   "cell_type": "code",
   "execution_count": null,
   "metadata": {},
   "outputs": [],
   "source": [
    "\n"
   ]
  },
  {
   "cell_type": "code",
   "execution_count": 29,
   "metadata": {},
   "outputs": [
    {
     "name": "stdout",
     "output_type": "stream",
     "text": [
      "Q : mày thích đi xem phim hay là đi ăn?\n",
      "A :  ok mai 9h đi \n",
      "===========================================================================================\n",
      "Q : mày học ở đâu?\n",
      "A :  quận 7 \n",
      "===========================================================================================\n",
      "Q : mày học ở đâu và làm gì ?\n",
      "A :  ở tây_ninh của làng đại_học tôn đức thắng \n",
      "===========================================================================================\n",
      "Q : mày học trường gì?\n",
      "A :  em tích_lũy đủ 132 tín là tốt_nghiệp mình \n",
      "===========================================================================================\n",
      "Q : stop\n"
     ]
    }
   ],
   "source": [
    "## Q-A\n",
    "\n",
    "question_input = \"\"\n",
    "while question_input != 'stop':\n",
    "    question_input  = input(\"Q : \")\n",
    "    \n",
    "    if(question_input == \"stop\"): break\n",
    "        \n",
    "    if(question_input == \"\"): \n",
    "        print(\"A : Vui lòng nhập câu hỏi\")\n",
    "        print(\"===========================================================================================\")\n",
    "        question_input  = input(\"Q : \")\n",
    "        \n",
    "    question_input = text_process(question_input)\n",
    "    \n",
    "    question_inp = [question_input]\n",
    "    \n",
    "    question = []\n",
    "    \n",
    "    # chuyển câu trong question thành vector\n",
    "    for x in question_inp:\n",
    "        tmp = []\n",
    "        for y in x.split():\n",
    "            try:\n",
    "                tmp.append(word2index[y])\n",
    "            except:\n",
    "                tmp.append(word2index['<OUT>'])\n",
    "        question.append(tmp)\n",
    "        \n",
    "    # độ dài vector bằng MAX_LEN\n",
    "    question = pad_sequences(question, MAX_LEN, padding='post')\n",
    "\n",
    "    # chuyển câu hỏi cho encoder LSTM để nhận final encoder states của the encoder LSTM\n",
    "    state = encoder_model.predict(question)\n",
    "    \n",
    "    # Tạo chuỗi mục tiêu trống có độ dài 1, tạo đầu vào là index của <SOS>\n",
    "    empty_target_seq = np.zeros((1, 1))\n",
    "    \n",
    "    empty_target_seq[0, 0] = word2index['<SOS>']\n",
    "    \n",
    "    # điều kiện dừng decode\n",
    "    run = True\n",
    "\n",
    "    answer = ''\n",
    "\n",
    "    while run:\n",
    "        # Trả về prediction từ state của encoder và index từ trước đó\n",
    "        prediction, prediction_h, prediction_c = decoder_model.predict([empty_target_seq] + state)\n",
    "        \n",
    "        # Từ prediction tạo ra tìm index với max probability\n",
    "        token_word_index = np.argmax(prediction[0, -1, :])\n",
    "        \n",
    "        # Nối từ tương ứng với index vào word\n",
    "        word = index2word[token_word_index] + ' '\n",
    "\n",
    "        # Nếu word không phải EOS thì nối vào answer\n",
    "        if(word != '<EOS> '):\n",
    "            answer += word\n",
    "            \n",
    "        # Nếu word là EOS hoặc số từ vượt quá MAX_LEN thì dừng predict\n",
    "        if(word == '<EOS> ' or len(answer.split()) > MAX_LEN):\n",
    "            run = False\n",
    "\n",
    "        # Khởi tạo lại empty_target_seq và đặt token_word_index thành đầu ra của current time step.\n",
    "        # Sau đó nó sẽ chuyển làm đầu vào của next time step.\n",
    "        empty_target_seq = np.zeros((1, 1))  \n",
    "        empty_target_seq[0, 0] = token_word_index\n",
    "        \n",
    "        # Update states\n",
    "        state = [prediction_h, prediction_c]\n",
    "        \n",
    "    print(\"A : \", answer)\n",
    "    print(\"===========================================================================================\")  "
   ]
  },
  {
   "cell_type": "code",
   "execution_count": null,
   "metadata": {},
   "outputs": [],
   "source": []
  }
 ],
 "metadata": {
  "kernelspec": {
   "display_name": "Python 3",
   "language": "python",
   "name": "python3"
  },
  "language_info": {
   "codemirror_mode": {
    "name": "ipython",
    "version": 3
   },
   "file_extension": ".py",
   "mimetype": "text/x-python",
   "name": "python",
   "nbconvert_exporter": "python",
   "pygments_lexer": "ipython3",
   "version": "3.8.5"
  }
 },
 "nbformat": 4,
 "nbformat_minor": 4
}
