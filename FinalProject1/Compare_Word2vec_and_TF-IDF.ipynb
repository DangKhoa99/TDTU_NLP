{
 "cells": [
  {
   "cell_type": "code",
   "execution_count": 1,
   "metadata": {},
   "outputs": [],
   "source": [
    "import nltk\n",
    "import numpy as np\n",
    "from pyvi import ViTokenizer\n",
    "import time\n",
    "import pandas as pd\n",
    "from nltk import word_tokenize\n",
    "from sklearn.feature_extraction.text import TfidfVectorizer\n",
    "from sklearn.metrics.pairwise import cosine_similarity"
   ]
  },
  {
   "cell_type": "markdown",
   "metadata": {},
   "source": [
    "# Tập data chatbot"
   ]
  },
  {
   "cell_type": "code",
   "execution_count": 2,
   "metadata": {},
   "outputs": [],
   "source": [
    "file_tranning = ['./dữ liệu chatbot - dự án cuối kì/bạn bè.txt',\n",
    "'./dữ liệu chatbot - dự án cuối kì/các câu hỏi phức tạp.txt',\n",
    "'./dữ liệu chatbot - dự án cuối kì/đất nước.txt',\n",
    "'./dữ liệu chatbot - dự án cuối kì/địa chỉ.txt',\n",
    "'./dữ liệu chatbot - dự án cuối kì/du lịch.txt',\n",
    "'./dữ liệu chatbot - dự án cuối kì/gia đình.txt',\n",
    "'./dữ liệu chatbot - dự án cuối kì/giải trí.txt',\n",
    "'./dữ liệu chatbot - dự án cuối kì/học tập.txt',\n",
    "'./dữ liệu chatbot - dự án cuối kì/nghề nghiệp.txt',\n",
    "'./dữ liệu chatbot - dự án cuối kì/nghỉ lễ.txt',\n",
    "'./dữ liệu chatbot - dự án cuối kì/người yêu.txt',\n",
    "'./dữ liệu chatbot - dự án cuối kì/robot.txt',\n",
    "'./dữ liệu chatbot - dự án cuối kì/shoping.txt',\n",
    "'./dữ liệu chatbot - dự án cuối kì/tán gẫu.txt',\n",
    "'./dữ liệu chatbot - dự án cuối kì/tdtu.txt',\n",
    "'./dữ liệu chatbot - dự án cuối kì/thông tin cá nhân.txt',\n",
    "'./dữ liệu chatbot - dự án cuối kì/trò chuyện về đi ăn.txt']"
   ]
  },
  {
   "cell_type": "code",
   "execution_count": 3,
   "metadata": {},
   "outputs": [],
   "source": [
    "question_train = []\n",
    "answer_train = []\n",
    "for i in range(len(file_tranning)):\n",
    "    with open(file_tranning[i], encoding='UTF-8') as f:\n",
    "        train_lines = f.readlines()\n",
    "        for line in train_lines:\n",
    "            tmp = line.split(\"__eou__\")\n",
    "            question_train.append(tmp[0].strip()) # strip(): Loại bỏ whitespace đầu cuối string\n",
    "            answer_train.append(tmp[1].strip())"
   ]
  },
  {
   "cell_type": "code",
   "execution_count": 4,
   "metadata": {},
   "outputs": [
    {
     "name": "stdout",
     "output_type": "stream",
     "text": [
      "Thích đánh lộn không?\n",
      "Ngon nhà vô\n"
     ]
    }
   ],
   "source": [
    "print((question_train[0]))\n",
    "print((answer_train[0]))"
   ]
  },
  {
   "cell_type": "markdown",
   "metadata": {},
   "source": [
    "# Preprocessing"
   ]
  },
  {
   "cell_type": "code",
   "execution_count": 5,
   "metadata": {},
   "outputs": [],
   "source": [
    "import string"
   ]
  },
  {
   "cell_type": "code",
   "execution_count": 6,
   "metadata": {},
   "outputs": [],
   "source": [
    "# print(string.punctuation)"
   ]
  },
  {
   "cell_type": "code",
   "execution_count": 7,
   "metadata": {},
   "outputs": [],
   "source": [
    "def text_process(mess):\n",
    "    mess = mess.lower()\n",
    "    nopunc = [char for char in mess if char not in string.punctuation]\n",
    "    return  ''.join(nopunc)"
   ]
  },
  {
   "cell_type": "code",
   "execution_count": 8,
   "metadata": {},
   "outputs": [],
   "source": [
    "# Bỏ dấu câu\n",
    "for i in range(len(question_train)):\n",
    "    question_train[i] = text_process(question_train[i])"
   ]
  },
  {
   "cell_type": "code",
   "execution_count": 9,
   "metadata": {},
   "outputs": [
    {
     "name": "stdout",
     "output_type": "stream",
     "text": [
      "thích đánh lộn không\n",
      "Ngon nhà vô\n"
     ]
    }
   ],
   "source": [
    "print(question_train[0])\n",
    "print(answer_train[0])"
   ]
  },
  {
   "cell_type": "code",
   "execution_count": 10,
   "metadata": {},
   "outputs": [],
   "source": [
    "# Word Segmentation \n",
    "for i in range(len(question_train)):\n",
    "    question_train[i] = ViTokenizer.tokenize(question_train[i])"
   ]
  },
  {
   "cell_type": "code",
   "execution_count": 11,
   "metadata": {},
   "outputs": [
    {
     "name": "stdout",
     "output_type": "stream",
     "text": [
      "thích đánh_lộn không\n",
      "Ngon nhà vô\n"
     ]
    }
   ],
   "source": [
    "print(question_train[0])\n",
    "print(answer_train[0])"
   ]
  },
  {
   "cell_type": "code",
   "execution_count": null,
   "metadata": {},
   "outputs": [],
   "source": []
  },
  {
   "cell_type": "markdown",
   "metadata": {},
   "source": [
    "# Word2vec"
   ]
  },
  {
   "cell_type": "code",
   "execution_count": 12,
   "metadata": {},
   "outputs": [],
   "source": [
    "from nltk import word_tokenize\n",
    "sents= []\n",
    "for i in range(len(question_train)):\n",
    "    tokens = word_tokenize(question_train[i])\n",
    "    sents.append(tokens)"
   ]
  },
  {
   "cell_type": "code",
   "execution_count": 13,
   "metadata": {},
   "outputs": [],
   "source": [
    "# print(sents)"
   ]
  },
  {
   "cell_type": "code",
   "execution_count": 14,
   "metadata": {},
   "outputs": [],
   "source": [
    "from gensim.models import Word2Vec\n",
    "modelw2v = Word2Vec(sentences=sents, size=100, window=5, sg=1, min_count=2)"
   ]
  },
  {
   "cell_type": "code",
   "execution_count": 15,
   "metadata": {},
   "outputs": [],
   "source": [
    "# chuyển 1 câu thành 1 vector\n",
    "# vector đại diện cho câu theo phương pháp trung bình\n",
    "np.seterr(divide='ignore', invalid='ignore')\n",
    "\n",
    "def convertsent2vec(sent):\n",
    "    sum_ = np.array([0] * 100)\n",
    "    for word in sent:\n",
    "        if(word not in modelw2v.wv):\n",
    "            continue\n",
    "        vec = modelw2v.wv[word]\n",
    "        sum_ = sum_ + vec\n",
    "    return sum_ / len(sent) # Lấy vector của tất cả từ chia trung bình"
   ]
  },
  {
   "cell_type": "code",
   "execution_count": null,
   "metadata": {},
   "outputs": [],
   "source": []
  },
  {
   "cell_type": "code",
   "execution_count": 16,
   "metadata": {},
   "outputs": [],
   "source": [
    "from scipy import spatial"
   ]
  },
  {
   "cell_type": "code",
   "execution_count": 23,
   "metadata": {},
   "outputs": [],
   "source": [
    "def get_answer_word2vec(question):\n",
    "    start = time.time()\n",
    "    question = ViTokenizer.tokenize(text_process(question))\n",
    "    question = convertsent2vec(question)\n",
    "    \n",
    "    score_cosin = []\n",
    "    for i in range(len(question_train)):\n",
    "        score_cosin.append(1 - spatial.distance.cosine(question, convertsent2vec(question_train[i])))\n",
    "#     print(score_cosin)\n",
    "\n",
    "    question_pred = max(score_cosin)\n",
    "    index = score_cosin.index(question_pred)\n",
    "    end = time.time()\n",
    "    \n",
    "    print(f\"Time_word2vec: {end - start}s\")\n",
    "\n",
    "    return  question_train[index], answer_train[index]"
   ]
  },
  {
   "cell_type": "code",
   "execution_count": null,
   "metadata": {},
   "outputs": [],
   "source": []
  },
  {
   "cell_type": "markdown",
   "metadata": {},
   "source": [
    "# TfidfVectorizer"
   ]
  },
  {
   "cell_type": "code",
   "execution_count": 18,
   "metadata": {},
   "outputs": [],
   "source": [
    "train_set = pd.Series(question_train)"
   ]
  },
  {
   "cell_type": "code",
   "execution_count": 19,
   "metadata": {},
   "outputs": [],
   "source": [
    "tokenizer = TfidfVectorizer()"
   ]
  },
  {
   "cell_type": "code",
   "execution_count": 20,
   "metadata": {},
   "outputs": [],
   "source": [
    "train_tfidf = tokenizer.fit_transform(train_set)"
   ]
  },
  {
   "cell_type": "code",
   "execution_count": 24,
   "metadata": {},
   "outputs": [],
   "source": [
    "def get_answer_tfidf(question):\n",
    "    start = time.time()\n",
    "    input_set = pd.Series([ViTokenizer.tokenize(question)])\n",
    "    new_tfidf = tokenizer.transform(input_set)\n",
    "    \n",
    "    X = pd.DataFrame(cosine_similarity(new_tfidf, train_tfidf), columns=train_set.index)\n",
    "    \n",
    "    X['input'] = input_set.index\n",
    "    score = pd.melt(\n",
    "        X,\n",
    "        id_vars='input',\n",
    "        var_name='train',\n",
    "        value_name='score'\n",
    "    )\n",
    "#     print(score)\n",
    "\n",
    "    column = score[\"score\"]\n",
    "    max_value = column.idxmax()\n",
    "    \n",
    "    end = time.time()\n",
    "    \n",
    "    print(f\"Time_tfidf: {end - start}s\")\n",
    "    \n",
    "    return train_set[max_value], answer_train[max_value]"
   ]
  },
  {
   "cell_type": "code",
   "execution_count": 28,
   "metadata": {},
   "outputs": [
    {
     "name": "stdout",
     "output_type": "stream",
     "text": [
      "Collecting beautifultable\n",
      "  Downloading beautifultable-1.0.1-py2.py3-none-any.whl (27 kB)\n",
      "Requirement already satisfied: wcwidth in d:\\program\\anaconda3\\lib\\site-packages (from beautifultable) (0.2.5)\n",
      "Installing collected packages: beautifultable\n",
      "Successfully installed beautifultable-1.0.1\n",
      "Note: you may need to restart the kernel to use updated packages.\n"
     ]
    }
   ],
   "source": [
    "# pip install beautifultable"
   ]
  },
  {
   "cell_type": "code",
   "execution_count": 2,
   "metadata": {},
   "outputs": [],
   "source": [
    "from beautifultable import BeautifulTable\n",
    "import warnings"
   ]
  },
  {
   "cell_type": "code",
   "execution_count": 3,
   "metadata": {},
   "outputs": [],
   "source": [
    "warnings.filterwarnings(\"ignore\")"
   ]
  },
  {
   "cell_type": "code",
   "execution_count": 36,
   "metadata": {},
   "outputs": [
    {
     "name": "stdout",
     "output_type": "stream",
     "text": [
      "Q: 1 + 1\n",
      "Time_word2vec: 0.385998010635376s\n",
      "Time_tfidf: 0.005990505218505859s\n",
      "+--------+------------------------------+----------------------+\n",
      "|        |           Word2Vec           |        TF-IDF        |\n",
      "+--------+------------------------------+----------------------+\n",
      "| Q_pred |             1 1              | thích đánh_lộn không |\n",
      "+--------+------------------------------+----------------------+\n",
      "|   A    | 1 + 1 còn hỏi thì mày ngu :) |     Ngon nhà vô      |\n",
      "+--------+------------------------------+----------------------+\n",
      "---------------------------------------------------------------\n",
      "Q: bạn có người yêu chưa\n",
      "Time_word2vec: 0.3840053081512451s\n",
      "Time_tfidf: 0.004990577697753906s\n",
      "+--------+----------------------------------+----------------------------------+\n",
      "|        |             Word2Vec             |              TF-IDF              |\n",
      "+--------+----------------------------------+----------------------------------+\n",
      "| Q_pred |      bạn có người_yêu chưa       |      bạn có người_yêu chưa       |\n",
      "+--------+----------------------------------+----------------------------------+\n",
      "|   A    | mình đã làm gì có người yêu, mìn | mình đã làm gì có người yêu, mìn |\n",
      "|        |     h còn đang sợ ế đây này      |     h còn đang sợ ế đây này      |\n",
      "+--------+----------------------------------+----------------------------------+\n",
      "---------------------------------------------------------------\n",
      "Q: cờ vua\n",
      "Time_word2vec: 0.3859982490539551s\n",
      "Time_tfidf: 0.004990339279174805s\n",
      "+--------+-------------------+-------------------------------------------------+\n",
      "|        |     Word2Vec      |                     TF-IDF                      |\n",
      "+--------+-------------------+-------------------------------------------------+\n",
      "| Q_pred |      ai vậy       | cờ_vua có bao_nhiêu quân cờ kể tên các quân cờ  |\n",
      "+--------+-------------------+-------------------------------------------------+\n",
      "|   A    | Người minh thương | Cờ vua có 32 quân cờ bao gồm: Vua, Hậu, Xe, Tượ |\n",
      "|        |                   |                   ng, Mã, Tốt                   |\n",
      "+--------+-------------------+-------------------------------------------------+\n",
      "---------------------------------------------------------------\n",
      "Q: stop\n"
     ]
    }
   ],
   "source": [
    "while True:\n",
    "    question_input = input(\"Q: \")\n",
    "    if(question_input.strip() == \"stop\"):\n",
    "        break\n",
    "    question_pred_word2vec, answer_word2vec = get_answer_word2vec(question_input)\n",
    "#     print(\"Q_pred_word2vec: \", question_pred_word2vec)\n",
    "    \n",
    "#     print(\"A_word2vec: \", answer_word2vec)\n",
    "    \n",
    "    question_pred_tfidf, answer_tfidf = get_answer_tfidf(question_input)\n",
    "    \n",
    "#     print(\"Q_pred_tfidf: \", question_pred_tfidf)\n",
    "    \n",
    "#     print(\"A_tfidf: \", answer_tfidf)\n",
    "    \n",
    "    table = BeautifulTable()\n",
    "    table.column_headers = [\"\", \"Word2Vec\", \"TF-IDF\"]\n",
    "    table.append_row(['Q_pred',  question_pred_word2vec,  question_pred_tfidf])\n",
    "    table.append_row(['A', answer_word2vec, answer_tfidf])\n",
    "    print(table)"
   ]
  },
  {
   "cell_type": "code",
   "execution_count": null,
   "metadata": {},
   "outputs": [],
   "source": []
  },
  {
   "cell_type": "code",
   "execution_count": null,
   "metadata": {},
   "outputs": [],
   "source": []
  }
 ],
 "metadata": {
  "kernelspec": {
   "display_name": "Python 3",
   "language": "python",
   "name": "python3"
  },
  "language_info": {
   "codemirror_mode": {
    "name": "ipython",
    "version": 3
   },
   "file_extension": ".py",
   "mimetype": "text/x-python",
   "name": "python",
   "nbconvert_exporter": "python",
   "pygments_lexer": "ipython3",
   "version": "3.8.5"
  }
 },
 "nbformat": 4,
 "nbformat_minor": 4
}
